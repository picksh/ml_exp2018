{
 "cells": [
  {
   "cell_type": "markdown",
   "metadata": {},
   "source": [
    "# Lab2:  Linear Classfication and Stochastic Gradient Descent"
   ]
  },
  {
   "cell_type": "markdown",
   "metadata": {},
   "source": [
    "## Step1: Import and devide dataset."
   ]
  },
  {
   "cell_type": "code",
   "execution_count": 28,
   "metadata": {},
   "outputs": [],
   "source": [
    "# load the dataset\n",
    "from sklearn.datasets import load_svmlight_file\n",
    "\n",
    "x_train, y_train = load_svmlight_file(\"a9a\", n_features=123)\n",
    "x_train= x_train.toarray()\n",
    "\n",
    "x_test,y_test = load_svmlight_file(\"a9a.t\", n_features=123)\n",
    "x_test=x_test.toarray()"
   ]
  },
  {
   "cell_type": "code",
   "execution_count": 29,
   "metadata": {},
   "outputs": [],
   "source": [
    "# preprocess the dateset\n",
    "import numpy\n",
    "\n",
    "n_samples, n_features = x_train.shape\n",
    "x_train = numpy.column_stack((x_train, numpy.ones((n_samples, 1))))\n",
    "x_test = numpy.column_stack((x_test, numpy.ones((x_test.shape[0], 1))))\n",
    "\n",
    "y_train = y_train.reshape((-1, 1))\n",
    "y_test=y_test.reshape(y_test.shape[0],1)\n",
    "\n",
    "#y_train[y_train==-1]=0\n",
    "#y_test[y_test==-1]=0"
   ]
  },
  {
   "cell_type": "markdown",
   "metadata": {},
   "source": [
    "## Step2: Initialize SVM model parameters"
   ]
  },
  {
   "cell_type": "code",
   "execution_count": 30,
   "metadata": {},
   "outputs": [],
   "source": [
    "alpha = 0.01 #learning rate\n",
    "maxIteration = 300\n",
    "Threshold=0.5\n",
    "batch=128\n",
    "train_loss, test_loss,train_accr,test_accr = [],[],[],[]\n",
    "\n",
    "# theta = numpy.zeros((n_features + 1, 1))  # initialize with zeros\n",
    "#theta = numpy.random.random((n_features+1 , 1))  # initialize with random numbers\n",
    "theta = numpy.random.normal(0.1, 0.1, size=(n_features + 1, 1))  # initialize with zero normal distribution"
   ]
  },
  {
   "cell_type": "markdown",
   "metadata": {},
   "source": [
    "## Step3: Stochastic gradient function, loss funciton and accuracy function\n",
    "## Step4: Gradient descent"
   ]
  },
  {
   "cell_type": "code",
   "execution_count": 31,
   "metadata": {},
   "outputs": [
    {
     "name": "stdout",
     "output_type": "stream",
     "text": [
      "2.226978591645193\n",
      "1.748176425573999\n",
      "0.07779036954019028\n",
      "0.07779036954019028\n"
     ]
    }
   ],
   "source": [
    "def MSGD(theta):\n",
    "    index =  (1 - y_train * (numpy.dot(x_train ,theta)) < 0)\n",
    "    y = y_train.copy()\n",
    "    y[index] = 0\n",
    "    sumG=0\n",
    "    for i in range(0,batch):\n",
    "        i=numpy.random.randint(0,n_samples)\n",
    "        sumG+= (- ((x_train)[i].T * y[i]).reshape(124,1))\n",
    "    sumG/=batch\n",
    "    gradient = theta+sumG\n",
    "    return gradient\n",
    "\n",
    "#hinge loss\n",
    "def cal_loss(x,y,theta):\n",
    "    Eloss = 1 - numpy.dot(y.T,numpy.dot(x,theta))\n",
    "    Eloss[Eloss<0] = 0\n",
    "    loss =0.5 * numpy.dot(theta.transpose(), theta).sum() \n",
    "    loss+=(Eloss.sum()/n_samples)\n",
    "    return loss\n",
    "    \n",
    "def cal_accur(x,y,theta):\n",
    "    hypothesis = numpy.dot(x ,theta)\n",
    "    hypothesis[hypothesis > 0] = 1\n",
    "    hypothesis[hypothesis <= 0] = -1\n",
    "    return numpy.count_nonzero(hypothesis == y)/ x.shape[0]\n",
    "\n",
    "def SGD(theta):\n",
    "    for i in range(maxIteration):\n",
    "        gradient = MSGD(theta)\n",
    "        theta = theta - alpha * gradient \n",
    "       # print(theta)\n",
    "    \n",
    "        train_loss.append(cal_loss(x_train,y_train,theta))\n",
    "        test_loss.append(cal_loss(x_test,y_test,theta))\n",
    "        train_accr.append(cal_accur(x_train,y_train,theta))\n",
    "        test_accr.append(cal_accur(x_test,y_test,theta))\n",
    "\n",
    "SGD(theta)\n",
    "print(train_loss[0])\n",
    "print(test_loss[0])\n",
    "    \n",
    "print(train_loss[len(train_loss)-1])\n",
    "print(test_loss[len(test_loss)-1])\n"
   ]
  },
  {
   "cell_type": "code",
   "execution_count": 32,
   "metadata": {},
   "outputs": [
    {
     "name": "stdout",
     "output_type": "stream",
     "text": [
      "The best accuracy for train set is  0.7618623506649058\n",
      "The best accuracy for evaluation set is  0.7684417419077453\n"
     ]
    },
    {
     "data": {
      "image/png": "[encoded data removed]",
      "text/plain": [
       "<Figure size 432x288 with 1 Axes>"
      ]
     },
     "metadata": {
      "needs_background": "light"
     },
     "output_type": "display_data"
    }
   ],
   "source": [
    "#draw picture\n",
    "import matplotlib.pyplot as plt\n",
    "%matplotlib inline\n",
    "plt.xlabel(\"Iteration\")\n",
    "plt.ylabel(\"loss\")\n",
    "plt.plot( train_loss, label=\"train_loss\")\n",
    "plt.plot( test_loss,label=\"test_loss\" )\n",
    "plt.legend(loc=\"upper right\")\n",
    "plt.title(\"The graph of absolute diff value varing with the number of iterations\")\n",
    "\n",
    "print(\"The best accuracy for train set is \" ,max(train_accr))\n",
    "print(\"The best accuracy for evaluation set is \" ,max(test_accr))"
   ]
  },
  {
   "cell_type": "markdown",
   "metadata": {},
   "source": [
    "## Adam"
   ]
  },
  {
   "cell_type": "code",
   "execution_count": 33,
   "metadata": {},
   "outputs": [],
   "source": [
    "train_loss_adam,test_loss_adam,train_accr_adam,test_accr_adam = [],[],[],[]\n",
    "# theta = numpy.zeros((n_features + 1, 1))  # initialize with zeros\n",
    "#theta = numpy.random.random((n_features+1 , 1))  # initialize with random numbers\n",
    "theta = numpy.random.normal(0.1, 0.1, size=(n_features + 1, 1))  # initialize with zero normal distribution\n",
    "import math\n",
    "\n",
    "def adam(w):\n",
    " \n",
    "    t = 0 \n",
    "    m = 0  \n",
    "    v = 0  \n",
    "    b1 = 0.9  \n",
    "    b2 = 0.999\n",
    "    learning_rate=0.001\n",
    "    for i in range(0, maxIteration):\n",
    "        \n",
    "        gradient = MSGD(w)\n",
    "        t +=1 \n",
    "        m = b1*m + ((1-b1)*gradient).sum() \n",
    "        v = b2*v + ((1-b2)*(gradient**2)).sum()  \n",
    "        mt = m/(1-(b1**t))  \n",
    "        vt = v/(1-(b2**t)) \n",
    "        w = w- learning_rate * mt/(math.sqrt(vt)+0.000000001) \n",
    "        \n",
    "        train_loss_adam.append(cal_loss(x_test,y_test,w))\n",
    "        test_loss_adam.append( cal_loss(x_train,y_train,w))\n",
    "        train_accr_adam.append(cal_accur(x_test,y_test,w))\n",
    "        test_accr_adam.append(cal_accur(x_train,y_train,w))\n",
    "        \n",
    "adam(theta)\n"
   ]
  },
  {
   "cell_type": "code",
   "execution_count": 39,
   "metadata": {},
   "outputs": [
    {
     "name": "stdout",
     "output_type": "stream",
     "text": [
      "0.8365192471761043\n",
      "0.8365192471761043\n"
     ]
    }
   ],
   "source": [
    "print(train_loss_adam[len(train_loss_adam)-1])\n",
    "print(test_loss_adam[len(test_loss_adam)-1])"
   ]
  },
  {
   "cell_type": "code",
   "execution_count": 37,
   "metadata": {},
   "outputs": [
    {
     "name": "stdout",
     "output_type": "stream",
     "text": [
      "The best accuracy for train set is  0.7638351452613475\n",
      "The best accuracy for evaluation set is  0.7591904425539756\n"
     ]
    },
    {
     "data": {
      "image/png": "[encoded data removed]",
      "text/plain": [
       "<Figure size 432x288 with 1 Axes>"
      ]
     },
     "metadata": {
      "needs_background": "light"
     },
     "output_type": "display_data"
    }
   ],
   "source": [
    "plt.xlabel(\"Iteration\")\n",
    "plt.ylabel(\"loss\")\n",
    "plt.plot(train_loss_adam, label=\"train_loss\")\n",
    "plt.plot(test_loss_adam,label=\"evaluation_loss\" )\n",
    "plt.legend(loc ='upper right')\n",
    "plt.title(\"Adam:the graph of absolute diff value varing with the number of iterations\")\n",
    "\n",
    "\n",
    "print(\"The best accuracy for train set is \" ,max(train_accr_adam))\n",
    "print(\"The best accuracy for evaluation set is \" ,max(test_accr_adam))"
   ]
  },
  {
   "cell_type": "markdown",
   "metadata": {},
   "source": [
    "# Graph of two different stochastic gradient descent methods"
   ]
  },
  {
   "cell_type": "code",
   "execution_count": 40,
   "metadata": {},
   "outputs": [
    {
     "data": {
      "text/plain": [
       "Text(0.5,1,'The comparison of Batch Stochastic Gradient Descent and Adam')"
      ]
     },
     "execution_count": 40,
     "metadata": {},
     "output_type": "execute_result"
    },
    {
     "data": {
      "image/png": "[encoded data removed]",
      "text/plain": [
       "<Figure size 432x288 with 1 Axes>"
      ]
     },
     "metadata": {
      "needs_background": "light"
     },
     "output_type": "display_data"
    }
   ],
   "source": [
    "plt.plot(train_loss, label=\"train_loss\")\n",
    "plt.plot(train_loss_adam, label=\"train_loss_adam\")\n",
    "plt.legend(loc=\"upper right\")\n",
    "plt.title(\"The comparison of Batch Stochastic Gradient Descent and Adam\")\n"
   ]
  },
  {
   "cell_type": "code",
   "execution_count": null,
   "metadata": {},
   "outputs": [],
   "source": []
  },
  {
   "cell_type": "code",
   "execution_count": null,
   "metadata": {},
   "outputs": [],
   "source": []
  }
 ],
 "metadata": {
  "kernelspec": {
   "display_name": "Python [default]",
   "language": "python",
   "name": "python3"
  },
  "language_info": {
   "codemirror_mode": {
    "name": "ipython",
    "version": 3
   },
   "file_extension": ".py",
   "mimetype": "text/x-python",
   "name": "python",
   "nbconvert_exporter": "python",
   "pygments_lexer": "ipython3",
   "version": "3.6.6"
  }
 },
 "nbformat": 4,
 "nbformat_minor": 2
}
