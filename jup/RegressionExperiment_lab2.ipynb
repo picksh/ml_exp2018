{
 "cells": [
  {
   "cell_type": "markdown",
   "metadata": {},
   "source": [
    "# Lab2- Logistic Regression and  Batch Stochastic Gradient Descent"
   ]
  },
  {
   "cell_type": "markdown",
   "metadata": {},
   "source": [
    "## (1) Import and devide dataset."
   ]
  },
  {
   "cell_type": "code",
   "execution_count": 29,
   "metadata": {},
   "outputs": [],
   "source": [
    "# load the dataset\n",
    "from sklearn.datasets import load_svmlight_file\n",
    "from io import BytesIO\n",
    "\n",
    "#x_train, y_train = load_svmlight_file(f=BytesIO(r.content), n_features=123)\n",
    "x_train,y_train = load_svmlight_file(\"a9a\", n_features=123)\n",
    "x_train= x_train.toarray()\n",
    "\n",
    "x_test,y_test = load_svmlight_file(\"a9a.t\", n_features=123)\n",
    "x_test=x_test.toarray()"
   ]
  },
  {
   "cell_type": "code",
   "execution_count": 30,
   "metadata": {},
   "outputs": [],
   "source": [
    "# preprocess the dateset\n",
    "import numpy\n",
    "\n",
    "n_samples, n_features = x_train.shape\n",
    "x_train = numpy.column_stack((x_train, numpy.ones((n_samples, 1))))\n",
    "x_test = numpy.column_stack((x_test, numpy.ones((x_test.shape[0], 1))))\n",
    "\n",
    "y_train = y_train.reshape((-1, 1))\n",
    "y_test=y_test.reshape(y_test.shape[0],1)\n",
    "\n",
    "y_train[y_train==-1]=0\n",
    "y_test[y_test==-1]=0"
   ]
  },
  {
   "cell_type": "markdown",
   "metadata": {},
   "source": [
    "## (2) Initialize linear model parameters.\n",
    "- theta is a n*1 matrix, otherwise there will be a number of errors during matrix operation.\n",
    "- alpha, representing learning rate, should be small enough."
   ]
  },
  {
   "cell_type": "code",
   "execution_count": 31,
   "metadata": {},
   "outputs": [],
   "source": [
    "\n",
    "alpha = 0.008 #learning rate\n",
    "maxIteration = 300\n",
    "Threshold=0.5\n",
    "batch=128\n",
    "train_loss, test_loss,train_accr,test_accr = [],[],[],[]"
   ]
  },
  {
   "cell_type": "code",
   "execution_count": 32,
   "metadata": {},
   "outputs": [],
   "source": [
    "#theta = numpy.zeros((n_features + 1, 1))  # initialize with zeros\n",
    "#theta = numpy.random.random((n_features+1 , 1))  # initialize with random numbers\n",
    "theta = numpy.random.normal(0.1, 0.1, size=(n_features + 1, 1))  # initialize with zero normal distribution"
   ]
  },
  {
   "cell_type": "markdown",
   "metadata": {},
   "source": [
    "## (3) Choose loss function and calculate loss\n",
    "## (4) Batch Stochastic Gradient Descent"
   ]
  },
  {
   "cell_type": "code",
   "execution_count": 33,
   "metadata": {},
   "outputs": [
    {
     "name": "stdout",
     "output_type": "stream",
     "text": [
      "1.1249082409140874\n",
      "1.12577182400026\n"
     ]
    }
   ],
   "source": [
    "def sigmoid(a):\n",
    "    return 1/(1+numpy.exp(-a))\n",
    "\n",
    "def MSGD(w):\n",
    "    sumG=0\n",
    "    for i in range(0,batch):\n",
    "        i=numpy.random.randint(0,n_samples)\n",
    "        sumG+=(x_train[i].T * (sigmoid(x_train[i] * w) - y_train[i]))\n",
    "    sumG/=batch\n",
    "    return sumG\n",
    "\n",
    "def cal_loss(x,y,theta):\n",
    "    sigm=sigmoid(numpy.dot(x,theta))\n",
    "    return  -numpy.average( y*numpy.log(sigm) + (1-y)*numpy.log(1-sigm) )\n",
    "\n",
    "\n",
    "def cal_accur(x,y,theta):\n",
    "    hypothesis =sigmoid( numpy.dot(x , theta))\n",
    "    hypothesis[hypothesis > Threshold] = 1\n",
    "    hypothesis[hypothesis <= Threshold] = 0\n",
    "    return numpy.count_nonzero(hypothesis==y)/ x.shape[0]\n",
    "\n",
    "\n",
    "def SGD(theta):\n",
    "    for i in range(0, maxIteration):\n",
    "        gradient = MSGD(theta)\n",
    "        theta = theta - alpha * gradient \n",
    "        \n",
    "        train_loss.append(cal_loss(x_train,y_train,theta))\n",
    "        test_loss.append(cal_loss(x_test,y_test,theta))\n",
    "        train_accr.append(cal_accur(x_train,y_train,theta))\n",
    "        test_accr.append(cal_accur(x_test,y_test,theta))\n",
    "\n",
    "SGD(theta)\n",
    "print(train_loss[len(train_loss)-1])\n",
    "print(test_loss[len(test_loss)-1])\n",
    "\n"
   ]
  },
  {
   "cell_type": "markdown",
   "metadata": {},
   "source": [
    "## (5) Draw graph\n",
    "- The blue line represents the loss of train, and the orange line represents the loss of eva"
   ]
  },
  {
   "cell_type": "code",
   "execution_count": 34,
   "metadata": {},
   "outputs": [
    {
     "name": "stdout",
     "output_type": "stream",
     "text": [
      "The best accuracy for train set is  45.29910015048678\n",
      "The best accuracy for evaluation set is  45.00669492045943\n"
     ]
    },
    {
     "data": {
      "image/png": "[encoded data removed]",
      "text/plain": [
       "<Figure size 432x288 with 1 Axes>"
      ]
     },
     "metadata": {
      "needs_background": "light"
     },
     "output_type": "display_data"
    }
   ],
   "source": [
    "#draw picture\n",
    "import matplotlib.pyplot as plt\n",
    "%matplotlib inline\n",
    "plt.xlabel(\"Iteration\")\n",
    "plt.ylabel(\"loss\")\n",
    "plt.plot( train_loss, label=\"train_loss\")\n",
    "plt.plot( test_loss,label=\"test_loss\" )\n",
    "plt.legend(loc=\"upper right\")\n",
    "plt.title(\"The graph of absolute diff value varing with the number of iterations\")\n",
    "\n",
    "\n",
    "print(\"The best accuracy for train set is \" ,max(train_accr))\n",
    "print(\"The best accuracy for evaluation set is \" ,max(test_accr))\n"
   ]
  }
 ],
 "metadata": {
  "kernelspec": {
   "display_name": "Python [default]",
   "language": "python",
   "name": "python3"
  },
  "language_info": {
   "codemirror_mode": {
    "name": "ipython",
    "version": 3
   },
   "file_extension": ".py",
   "mimetype": "text/x-python",
   "name": "python",
   "nbconvert_exporter": "python",
   "pygments_lexer": "ipython3",
   "version": "3.6.6"
  }
 },
 "nbformat": 4,
 "nbformat_minor": 2
}
