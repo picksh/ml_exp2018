{
 "cells": [
  {
   "cell_type": "markdown",
   "metadata": {},
   "source": [
    "# LAB1-Linear Regression and Stochastic Gradient Descent"
   ]
  },
  {
   "cell_type": "markdown",
   "metadata": {},
   "source": [
    "##  LAB1-2 Linear Regression and Stochastic Gradient Descent\n"
   ]
  },
  {
   "cell_type": "code",
   "execution_count": 29,
   "metadata": {},
   "outputs": [],
   "source": [
    "# download the dataset\n",
    "import requests\n",
    "\n",
    "r = requests.get('''https://www.csie.ntu.edu.tw/~cjlin/libsvmtools/datasets/regression/housing_scale''')"
   ]
  },
  {
   "cell_type": "code",
   "execution_count": 30,
   "metadata": {},
   "outputs": [],
   "source": [
    "# load the dataset\n",
    "from sklearn.datasets import load_svmlight_file\n",
    "from io import BytesIO\n",
    "\n",
    "x, y = load_svmlight_file(f=BytesIO(r.content), n_features=13)\n",
    "x= x.toarray()"
   ]
  },
  {
   "cell_type": "code",
   "execution_count": 31,
   "metadata": {},
   "outputs": [],
   "source": [
    "# preprocess the dateset\n",
    "import numpy\n",
    "\n",
    "n_samples, n_features = x.shape\n",
    "x = numpy.column_stack((x, numpy.ones((n_samples, 1))))\n",
    "y = y.reshape((-1, 1))"
   ]
  },
  {
   "cell_type": "code",
   "execution_count": 32,
   "metadata": {},
   "outputs": [],
   "source": [
    "# devide the dataset into traning set and validation set\n",
    "from sklearn.model_selection import train_test_split\n",
    "\n",
    "x_train, x_test, y_train, y_test = train_test_split(x, y, test_size=0.25)"
   ]
  },
  {
   "cell_type": "code",
   "execution_count": 33,
   "metadata": {},
   "outputs": [],
   "source": [
    "#initialze the parameters and the losses sets\n",
    "penalty_factor = 0.5  # L2 regular term coefficients\n",
    "learning_rate = 0.0005\n",
    "max_epoch = 200\n",
    "\n",
    "losses_train = []\n",
    "losses_test = []"
   ]
  },
  {
   "cell_type": "code",
   "execution_count": 34,
   "metadata": {},
   "outputs": [],
   "source": [
    "# select different initializing method\n",
    "w = numpy.zeros((n_features + 1, 1))  # initialize with zeros\n",
    "#w = numpy.random.random((n_features + 1, 1))  # initialize with random numbers\n",
    "#w = numpy.random.normal(1, 1, size=(n_features + 1, 1))  # initialize with zero normal distribution"
   ]
  },
  {
   "cell_type": "markdown",
   "metadata": {},
   "source": [
    "## (1) Linear Regression and Stochastic Gradient Descent"
   ]
  },
  {
   "cell_type": "code",
   "execution_count": 35,
   "metadata": {},
   "outputs": [
    {
     "name": "stdout",
     "output_type": "stream",
     "text": [
      "219.67849370889007\n",
      "231.59647054171768\n",
      "0.10066842602334752\n",
      "0.21471788009638246\n"
     ]
    }
   ],
   "source": [
    "for epoch in range(max_epoch):\n",
    "    # calculate the gradient \n",
    "    G= (-numpy.dot(numpy.transpose(x_train),y_train)+numpy.dot(numpy.dot(numpy.transpose(x_train),x_train),w))/(n_features+1)\n",
    "    G = -G\n",
    "    w += learning_rate * G  # update the parameters\n",
    "    \n",
    "    Y_predict = numpy.dot(x_train, w)  # predict under the train set\n",
    "    loss_train=penalty_factor*numpy.average(numpy.dot(y_train-Y_predict,numpy.transpose(y_train-Y_predict)))\n",
    "    losses_train.append(loss_train)\n",
    "\n",
    "    Y_predict = numpy.dot(x_test, w)  # predict under the validation set\n",
    "    loss_test = penalty_factor*numpy.average(numpy.dot(y_test-Y_predict,numpy.transpose(y_test-Y_predict)))\n",
    "    losses_test.append(loss_test)\n",
    "\n",
    "print(losses_train[0])\n",
    "print(losses_test[0])\n",
    "    \n",
    "print(losses_train[len(losses_train)-1])\n",
    "print(losses_test[len(losses_test)-1])"
   ]
  },
  {
   "cell_type": "code",
   "execution_count": 36,
   "metadata": {},
   "outputs": [
    {
     "data": {
      "text/plain": [
       "Text(0.5,1,'The graph of absolute diff value varing with the number of iterations')"
      ]
     },
     "execution_count": 36,
     "metadata": {},
     "output_type": "execute_result"
    },
    {
     "data": {
      "image/png": "[encoded data removed]",
      "text/plain": [
       "<Figure size 1296x432 with 1 Axes>"
      ]
     },
     "metadata": {
      "needs_background": "light"
     },
     "output_type": "display_data"
    }
   ],
   "source": [
    "%matplotlib inline\n",
    "\n",
    "import matplotlib.pyplot as plt\n",
    "plt.figure(figsize=(18, 6))\n",
    "plt.plot(losses_train, \"-\", color=\"r\", label=\"train loss\")\n",
    "plt.plot(losses_test, \"-\", color=\"b\", label=\"test loss\")\n",
    "plt.xlabel(\"epoch\")\n",
    "plt.ylabel(\"loss\")\n",
    "plt.legend()\n",
    "plt.title(\"The graph of absolute diff value varing with the number of iterations\")"
   ]
  },
  {
   "cell_type": "markdown",
   "metadata": {},
   "source": [
    "## (2) Closed-form solution of Linear Regression"
   ]
  },
  {
   "cell_type": "code",
   "execution_count": 37,
   "metadata": {},
   "outputs": [
    {
     "name": "stdout",
     "output_type": "stream",
     "text": [
      "Final loss for training set:  5.19398968642731e-19\n",
      "Final loss for test set:  0.02691910042021025\n"
     ]
    }
   ],
   "source": [
    "w=numpy.dot(numpy.dot(numpy.linalg.inv(numpy.dot(numpy.transpose(x_train),x_train)),numpy.transpose(x_train)),y_train)\n",
    "\n",
    "Y_predict = numpy.dot(x_train, w)  # predict under the train set\n",
    "loss_train=numpy.average(numpy.dot(y_train-Y_predict,numpy.transpose(y_train-Y_predict)))\n",
    "\n",
    "Y_predict = numpy.dot(x_test, w)  # predict under the validation set\n",
    "loss_test = numpy.average(numpy.dot(y_test-Y_predict,numpy.transpose(y_test-Y_predict)))\n",
    "\n",
    "print(\"Final loss for training set: \",loss_train)\n",
    "print(\"Final loss for test set: \",loss_test)\n"
   ]
  },
  {
   "cell_type": "markdown",
   "metadata": {},
   "source": [
    "## (3) Comparison"
   ]
  },
  {
   "cell_type": "code",
   "execution_count": 38,
   "metadata": {},
   "outputs": [
    {
     "name": "stdout",
     "output_type": "stream",
     "text": [
      "Final loss \t Closed-form\t         Gradient Descent\n",
      "training set\t 5.19398968642731e-19 \t 0.10066842602334752\n",
      "test set    \t 0.02691910042021025 \t 0.21471788009638246\n"
     ]
    }
   ],
   "source": [
    "\n",
    "print(\"Final loss \\t Closed-form\\t         Gradient Descent\")\n",
    "print(\"training set\\t\",loss_train,\"\\t\",losses_train[len(losses_train)-1])\n",
    "print(\"test set    \\t\",loss_test,\"\\t\",losses_test[len(losses_test)-1])\n"
   ]
  },
  {
   "cell_type": "code",
   "execution_count": null,
   "metadata": {},
   "outputs": [],
   "source": []
  }
 ],
 "metadata": {
  "kernelspec": {
   "display_name": "Python [default]",
   "language": "python",
   "name": "python3"
  },
  "language_info": {
   "codemirror_mode": {
    "name": "ipython",
    "version": 3
   },
   "file_extension": ".py",
   "mimetype": "text/x-python",
   "name": "python",
   "nbconvert_exporter": "python",
   "pygments_lexer": "ipython3",
   "version": "3.6.6"
  }
 },
 "nbformat": 4,
 "nbformat_minor": 2
}
