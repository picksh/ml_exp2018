{
 "cells": [
  {
   "cell_type": "code",
   "execution_count": 1,
   "metadata": {
    "collapsed": true
   },
   "outputs": [],
   "source": [
    "import numpy\n",
    "import pandas as pd\n",
    "import matplotlib.pyplot as plt"
   ]
  },
  {
   "cell_type": "code",
   "execution_count": 2,
   "metadata": {
    "collapsed": true
   },
   "outputs": [],
   "source": [
    "#读取movielens数据集并转化成矩阵\n",
    "def load_data(filepath):\n",
    "    ratings_list = [i.strip().split(\"\\t\") for i in open(filepath, 'r').readlines()]\n",
    "    ratings_df = pd.DataFrame(ratings_list, columns = ['UserID', 'MovieID', 'Rating', 'Timestamp'], dtype = int)\n",
    "    R_df = ratings_df.pivot(index = 'UserID', columns ='MovieID', values = 'Rating').fillna(0)\n",
    "    rating_matrix = R_df.as_matrix()\n",
    "    return rating_matrix"
   ]
  },
  {
   "cell_type": "code",
   "execution_count": 3,
   "metadata": {},
   "outputs": [],
   "source": [
    "#读取训练集和测试集\n",
    "train_path = './data/u1.base'\n",
    "train_data = load_data(train_path)\n",
    "test_path = './data/u1.test'\n",
    "test_data = load_data(test_path)"
   ]
  },
  {
   "cell_type": "code",
   "execution_count": 4,
   "metadata": {
    "collapsed": true
   },
   "outputs": [],
   "source": [
    "#计算loss值\n",
    "def get_loss(R,P,Q,K,beta):\n",
    "    e = 0\n",
    "    loss_num = 0\n",
    "    for i in range(len(R)):\n",
    "        for j in range(len(R[i])):\n",
    "            if R[i][j] > 0:\n",
    "                loss_num = loss_num +1\n",
    "                e = e + pow(R[i][j] - numpy.dot(P[i,:],Q[:,j]), 2)\n",
    "                for k in range(K):\n",
    "                    e = e + (beta/2) * ( pow(P[i][k],2) + pow(Q[k][j],2) )\n",
    "    e = e/loss_num                \n",
    "    return e"
   ]
  },
  {
   "cell_type": "code",
   "execution_count": 5,
   "metadata": {},
   "outputs": [],
   "source": [
    "# R 训练集矩阵\n",
    "# test_data 测试集矩阵\n",
    "# P 分解的用户矩阵\n",
    "# Q 分解的物品矩阵\n",
    "# K 隐因子数量\n",
    "# steps 迭代次数\n",
    "# alpha 学习率\n",
    "# beta 正则化项\n",
    "def matrix_factorization(R,test_data,P, Q, K,steps,alpha,beta):\n",
    "    \n",
    "    #矩阵转置\n",
    "    Q = Q.T\n",
    "    \n",
    "    #定义迭代次数和不同优化方法的loss值\n",
    "    iteration_time = [] #迭代次数\n",
    "    train_loss = [] #训练集loss值\n",
    "    test_loss = [] #训练集loss值\n",
    "    \n",
    "    #进行迭代计算\n",
    "    for step in range(steps):\n",
    "        \n",
    "        #对于每一个样本\n",
    "        for i in range(len(R)):\n",
    "            for j in range(len(R[i])):\n",
    "                #假如在该位置上有数值存在，那么计算梯度并更新两个矩阵\n",
    "                if R[i][j] > 0:\n",
    "                    eij = R[i][j] - numpy.dot(P[i,:],Q[:,j])\n",
    "                    for k in range(K):\n",
    "                        P[i][k] = P[i][k] + alpha * (2 * eij * Q[k][j] - beta * P[i][k])\n",
    "                        Q[k][j] = Q[k][j] + alpha * (2 * eij * P[i][k] - beta * Q[k][j])\n",
    "\n",
    "\n",
    "        \n",
    "        iteration_time.append(step)\n",
    "        train_loss.append(get_loss(R,P,Q,K,beta)) \n",
    "        test_loss.append(get_loss(test_data,P,Q,K,beta))\n",
    "\n",
    "        if 0.001 in train_loss:\n",
    "            break\n",
    "            \n",
    "    \n",
    "    #画出loss的图像\n",
    "    plt.plot(iteration_time,train_loss, label='Train Loss')\n",
    "    plt.plot(iteration_time,test_loss, label='Test Loss')\n",
    "\n",
    "    plt.title('loss')\n",
    "    plt.legend()\n",
    "    plt.show()\n",
    "    \n",
    "    return P, Q.T"
   ]
  },
  {
   "cell_type": "code",
   "execution_count": 6,
   "metadata": {},
   "outputs": [
    {
     "data": {
      "image/png": "[encoded data removed]",
      "text/plain": [
       "<matplotlib.figure.Figure at 0x157c56e2eb8>"
      ]
     },
     "metadata": {},
     "output_type": "display_data"
    }
   ],
   "source": [
    "#用户矩阵维度\n",
    "N = len(train_data)\n",
    "#物品矩阵维度\n",
    "M = len(train_data[0])\n",
    "#隐因子数量\n",
    "K = 20\n",
    "\n",
    "#用随机数初始化用户矩阵与物品矩阵\n",
    "P = numpy.random.rand(N,K)\n",
    "Q = numpy.random.rand(M,K)\n",
    "\n",
    "#迭代轮数\n",
    "steps=300\n",
    "#学习率\n",
    "alpha=0.00001\n",
    "#正则化项\n",
    "beta=0.02\n",
    "\n",
    "#调用模型\n",
    "matrix_factorization(train_data,test_data,P,Q,K,steps,alpha,beta)"
   ]
  },
  {
   "cell_type": "code",
   "execution_count": null,
   "metadata": {},
   "outputs": [],
   "source": []
  }
 ],
 "metadata": {
  "kernelspec": {
   "display_name": "Python [default]",
   "language": "python",
   "name": "python3"
  },
  "language_info": {
   "codemirror_mode": {
    "name": "ipython",
    "version": 3
   },
   "file_extension": ".py",
   "mimetype": "text/x-python",
   "name": "python",
   "nbconvert_exporter": "python",
   "pygments_lexer": "ipython3",
   "version": "3.6.6"
  }
 },
 "nbformat": 4,
 "nbformat_minor": 2
}
